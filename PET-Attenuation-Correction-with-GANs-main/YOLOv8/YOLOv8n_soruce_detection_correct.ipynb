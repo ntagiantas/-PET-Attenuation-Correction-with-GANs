{
 "cells": [
  {
   "cell_type": "code",
   "execution_count": 4,
   "id": "f02a2c0d-6c9f-4714-93b2-eb256633fa0a",
   "metadata": {},
   "outputs": [
    {
     "name": "stdout",
     "output_type": "stream",
     "text": [
      "Ultralytics 8.3.153  Python-3.8.20 torch-2.4.1+cu121 CUDA:0 (NVIDIA GeForce RTX 4060 Laptop GPU, 8188MiB)\n",
      "\u001b[34m\u001b[1mengine\\trainer: \u001b[0magnostic_nms=False, amp=True, augment=False, auto_augment=randaugment, batch=16, bgr=0.0, box=7.5, cache=False, cfg=None, classes=None, close_mosaic=10, cls=0.5, conf=None, copy_paste=0.0, copy_paste_mode=flip, cos_lr=False, cutmix=0.0, data=dataset_yolo\\dataset.yaml, degrees=0.0, deterministic=True, device=None, dfl=1.5, dnn=False, dropout=0.0, dynamic=False, embed=None, epochs=50, erasing=0.4, exist_ok=False, fliplr=0.5, flipud=0.0, format=torchscript, fraction=1.0, freeze=None, half=False, hsv_h=0.015, hsv_s=0.7, hsv_v=0.4, imgsz=256, int8=False, iou=0.7, keras=False, kobj=1.0, line_width=None, lr0=0.01, lrf=0.01, mask_ratio=4, max_det=300, mixup=0.0, mode=train, model=yolov8n.pt, momentum=0.937, mosaic=1.0, multi_scale=False, name=exp112, nbs=64, nms=False, opset=None, optimize=False, optimizer=auto, overlap_mask=True, patience=100, perspective=0.0, plots=True, pose=12.0, pretrained=True, profile=False, project=runs/train, rect=False, resume=False, retina_masks=False, save=True, save_conf=False, save_crop=False, save_dir=runs\\train\\exp112, save_frames=False, save_json=False, save_period=-1, save_txt=False, scale=0.5, seed=0, shear=0.0, show=False, show_boxes=True, show_conf=True, show_labels=True, simplify=True, single_cls=False, source=None, split=val, stream_buffer=False, task=detect, time=None, tracker=botsort.yaml, translate=0.1, val=True, verbose=True, vid_stride=1, visualize=False, warmup_bias_lr=0.1, warmup_epochs=3.0, warmup_momentum=0.8, weight_decay=0.0005, workers=8, workspace=None\n",
      "Overriding model.yaml nc=80 with nc=1\n",
      "\n",
      "                   from  n    params  module                                       arguments                     \n",
      "  0                  -1  1       464  ultralytics.nn.modules.conv.Conv             [3, 16, 3, 2]                 \n",
      "  1                  -1  1      4672  ultralytics.nn.modules.conv.Conv             [16, 32, 3, 2]                \n",
      "  2                  -1  1      7360  ultralytics.nn.modules.block.C2f             [32, 32, 1, True]             \n",
      "  3                  -1  1     18560  ultralytics.nn.modules.conv.Conv             [32, 64, 3, 2]                \n",
      "  4                  -1  2     49664  ultralytics.nn.modules.block.C2f             [64, 64, 2, True]             \n",
      "  5                  -1  1     73984  ultralytics.nn.modules.conv.Conv             [64, 128, 3, 2]               \n",
      "  6                  -1  2    197632  ultralytics.nn.modules.block.C2f             [128, 128, 2, True]           \n",
      "  7                  -1  1    295424  ultralytics.nn.modules.conv.Conv             [128, 256, 3, 2]              \n",
      "  8                  -1  1    460288  ultralytics.nn.modules.block.C2f             [256, 256, 1, True]           \n",
      "  9                  -1  1    164608  ultralytics.nn.modules.block.SPPF            [256, 256, 5]                 \n",
      " 10                  -1  1         0  torch.nn.modules.upsampling.Upsample         [None, 2, 'nearest']          \n",
      " 11             [-1, 6]  1         0  ultralytics.nn.modules.conv.Concat           [1]                           \n",
      " 12                  -1  1    148224  ultralytics.nn.modules.block.C2f             [384, 128, 1]                 \n",
      " 13                  -1  1         0  torch.nn.modules.upsampling.Upsample         [None, 2, 'nearest']          \n",
      " 14             [-1, 4]  1         0  ultralytics.nn.modules.conv.Concat           [1]                           \n",
      " 15                  -1  1     37248  ultralytics.nn.modules.block.C2f             [192, 64, 1]                  \n",
      " 16                  -1  1     36992  ultralytics.nn.modules.conv.Conv             [64, 64, 3, 2]                \n",
      " 17            [-1, 12]  1         0  ultralytics.nn.modules.conv.Concat           [1]                           \n",
      " 18                  -1  1    123648  ultralytics.nn.modules.block.C2f             [192, 128, 1]                 \n",
      " 19                  -1  1    147712  ultralytics.nn.modules.conv.Conv             [128, 128, 3, 2]              \n",
      " 20             [-1, 9]  1         0  ultralytics.nn.modules.conv.Concat           [1]                           \n",
      " 21                  -1  1    493056  ultralytics.nn.modules.block.C2f             [384, 256, 1]                 \n",
      " 22        [15, 18, 21]  1    751507  ultralytics.nn.modules.head.Detect           [1, [64, 128, 256]]           \n",
      "Model summary: 129 layers, 3,011,043 parameters, 3,011,027 gradients, 8.2 GFLOPs\n",
      "\n",
      "Transferred 319/355 items from pretrained weights\n",
      "Freezing layer 'model.22.dfl.conv.weight'\n",
      "\u001b[34m\u001b[1mAMP: \u001b[0mrunning Automatic Mixed Precision (AMP) checks...\n",
      "\u001b[34m\u001b[1mAMP: \u001b[0mchecks passed \n",
      "\u001b[34m\u001b[1mtrain: \u001b[0mFast image access  (ping: 0.10.0 ms, read: 1.52.5 MB/s, size: 3.6 KB)\n"
     ]
    },
    {
     "name": "stderr",
     "output_type": "stream",
     "text": [
      "\u001b[34m\u001b[1mtrain: \u001b[0mScanning C:\\Users\\alexi\\dataset_yolo\\labels\\train.cache... 942 images, 0 backgrounds, 0 corrupt: 100%|██████████\u001b[0m"
     ]
    },
    {
     "name": "stdout",
     "output_type": "stream",
     "text": [
      "\u001b[34m\u001b[1malbumentations: \u001b[0mBlur(p=0.01, blur_limit=(3, 7)), MedianBlur(p=0.01, blur_limit=(3, 7)), ToGray(p=0.01, num_output_channels=3, method='weighted_average'), CLAHE(p=0.01, clip_limit=(1.0, 4.0), tile_grid_size=(8, 8))\n"
     ]
    },
    {
     "name": "stderr",
     "output_type": "stream",
     "text": [
      "\n"
     ]
    },
    {
     "name": "stdout",
     "output_type": "stream",
     "text": [
      "\u001b[34m\u001b[1mval: \u001b[0mFast image access  (ping: 0.10.0 ms, read: 3.54.0 MB/s, size: 3.3 KB)\n"
     ]
    },
    {
     "name": "stderr",
     "output_type": "stream",
     "text": [
      "\u001b[34m\u001b[1mval: \u001b[0mScanning C:\\Users\\alexi\\dataset_yolo\\labels\\val.cache... 118 images, 0 backgrounds, 0 corrupt: 100%|██████████| 11\u001b[0m\n"
     ]
    },
    {
     "name": "stdout",
     "output_type": "stream",
     "text": [
      "Plotting labels to runs\\train\\exp112\\labels.jpg... \n",
      "\u001b[34m\u001b[1moptimizer:\u001b[0m 'optimizer=auto' found, ignoring 'lr0=0.01' and 'momentum=0.937' and determining best 'optimizer', 'lr0' and 'momentum' automatically... \n",
      "\u001b[34m\u001b[1moptimizer:\u001b[0m AdamW(lr=0.002, momentum=0.9) with parameter groups 57 weight(decay=0.0), 64 weight(decay=0.0005), 63 bias(decay=0.0)\n",
      "Image sizes 256 train, 256 val\n",
      "Using 8 dataloader workers\n",
      "Logging results to \u001b[1mruns\\train\\exp112\u001b[0m\n",
      "Starting training for 50 epochs...\n",
      "\n",
      "      Epoch    GPU_mem   box_loss   cls_loss   dfl_loss  Instances       Size\n"
     ]
    },
    {
     "name": "stderr",
     "output_type": "stream",
     "text": [
      "       1/50     0.475G      2.168      2.386      1.157         15        256: 100%|██████████| 59/59 [00:09<00:00,  6.\n",
      "                 Class     Images  Instances      Box(P          R      mAP50  mAP50-95): 100%|██████████| 4/4 [00:00<0"
     ]
    },
    {
     "name": "stdout",
     "output_type": "stream",
     "text": [
      "                   all        118        118    0.00542      0.975     0.0442     0.0227\n"
     ]
    },
    {
     "name": "stderr",
     "output_type": "stream",
     "text": [
      "\n"
     ]
    },
    {
     "name": "stdout",
     "output_type": "stream",
     "text": [
      "\n",
      "      Epoch    GPU_mem   box_loss   cls_loss   dfl_loss  Instances       Size\n"
     ]
    },
    {
     "name": "stderr",
     "output_type": "stream",
     "text": [
      "       2/50     0.508G      1.716       1.25       1.01         16        256: 100%|██████████| 59/59 [00:06<00:00,  9.\n",
      "                 Class     Images  Instances      Box(P          R      mAP50  mAP50-95): 100%|██████████| 4/4 [00:00<0"
     ]
    },
    {
     "name": "stdout",
     "output_type": "stream",
     "text": [
      "                   all        118        118      0.923      0.607      0.786      0.393\n"
     ]
    },
    {
     "name": "stderr",
     "output_type": "stream",
     "text": [
      "\n"
     ]
    },
    {
     "name": "stdout",
     "output_type": "stream",
     "text": [
      "\n",
      "      Epoch    GPU_mem   box_loss   cls_loss   dfl_loss  Instances       Size\n"
     ]
    },
    {
     "name": "stderr",
     "output_type": "stream",
     "text": [
      "       3/50     0.508G      1.648      1.085      0.978         20        256: 100%|██████████| 59/59 [00:05<00:00, 10.\n",
      "                 Class     Images  Instances      Box(P          R      mAP50  mAP50-95): 100%|██████████| 4/4 [00:00<0"
     ]
    },
    {
     "name": "stdout",
     "output_type": "stream",
     "text": [
      "                   all        118        118       0.86      0.729      0.817      0.394\n"
     ]
    },
    {
     "name": "stderr",
     "output_type": "stream",
     "text": [
      "\n"
     ]
    },
    {
     "name": "stdout",
     "output_type": "stream",
     "text": [
      "\n",
      "      Epoch    GPU_mem   box_loss   cls_loss   dfl_loss  Instances       Size\n"
     ]
    },
    {
     "name": "stderr",
     "output_type": "stream",
     "text": [
      "       4/50     0.508G      1.689      1.015      1.005         19        256: 100%|██████████| 59/59 [00:05<00:00, 10.\n",
      "                 Class     Images  Instances      Box(P          R      mAP50  mAP50-95): 100%|██████████| 4/4 [00:00<0"
     ]
    },
    {
     "name": "stdout",
     "output_type": "stream",
     "text": [
      "                   all        118        118      0.858      0.847      0.874      0.433\n"
     ]
    },
    {
     "name": "stderr",
     "output_type": "stream",
     "text": [
      "\n"
     ]
    },
    {
     "name": "stdout",
     "output_type": "stream",
     "text": [
      "\n",
      "      Epoch    GPU_mem   box_loss   cls_loss   dfl_loss  Instances       Size\n"
     ]
    },
    {
     "name": "stderr",
     "output_type": "stream",
     "text": [
      "       5/50     0.508G      1.556     0.9291     0.9719         21        256: 100%|██████████| 59/59 [00:05<00:00, 10.\n",
      "                 Class     Images  Instances      Box(P          R      mAP50  mAP50-95): 100%|██████████| 4/4 [00:00<0"
     ]
    },
    {
     "name": "stdout",
     "output_type": "stream",
     "text": [
      "                   all        118        118      0.807      0.851      0.853      0.432\n"
     ]
    },
    {
     "name": "stderr",
     "output_type": "stream",
     "text": [
      "\n"
     ]
    },
    {
     "name": "stdout",
     "output_type": "stream",
     "text": [
      "\n",
      "      Epoch    GPU_mem   box_loss   cls_loss   dfl_loss  Instances       Size\n"
     ]
    },
    {
     "name": "stderr",
     "output_type": "stream",
     "text": [
      "       6/50     0.508G       1.53     0.8616     0.9698         25        256: 100%|██████████| 59/59 [00:05<00:00, 10.\n",
      "                 Class     Images  Instances      Box(P          R      mAP50  mAP50-95): 100%|██████████| 4/4 [00:00<0"
     ]
    },
    {
     "name": "stdout",
     "output_type": "stream",
     "text": [
      "                   all        118        118      0.928      0.872      0.922      0.539\n"
     ]
    },
    {
     "name": "stderr",
     "output_type": "stream",
     "text": [
      "\n"
     ]
    },
    {
     "name": "stdout",
     "output_type": "stream",
     "text": [
      "\n",
      "      Epoch    GPU_mem   box_loss   cls_loss   dfl_loss  Instances       Size\n"
     ]
    },
    {
     "name": "stderr",
     "output_type": "stream",
     "text": [
      "       7/50     0.508G      1.511     0.8646     0.9564         14        256: 100%|██████████| 59/59 [00:05<00:00, 10.\n",
      "                 Class     Images  Instances      Box(P          R      mAP50  mAP50-95): 100%|██████████| 4/4 [00:00<0"
     ]
    },
    {
     "name": "stdout",
     "output_type": "stream",
     "text": [
      "                   all        118        118      0.943      0.838      0.907      0.526\n"
     ]
    },
    {
     "name": "stderr",
     "output_type": "stream",
     "text": [
      "\n"
     ]
    },
    {
     "name": "stdout",
     "output_type": "stream",
     "text": [
      "\n",
      "      Epoch    GPU_mem   box_loss   cls_loss   dfl_loss  Instances       Size\n"
     ]
    },
    {
     "name": "stderr",
     "output_type": "stream",
     "text": [
      "       8/50     0.508G      1.471     0.7946     0.9495         17        256: 100%|██████████| 59/59 [00:05<00:00,  9.\n",
      "                 Class     Images  Instances      Box(P          R      mAP50  mAP50-95): 100%|██████████| 4/4 [00:00<0"
     ]
    },
    {
     "name": "stdout",
     "output_type": "stream",
     "text": [
      "                   all        118        118      0.954      0.876      0.941      0.507\n"
     ]
    },
    {
     "name": "stderr",
     "output_type": "stream",
     "text": [
      "\n"
     ]
    },
    {
     "name": "stdout",
     "output_type": "stream",
     "text": [
      "\n",
      "      Epoch    GPU_mem   box_loss   cls_loss   dfl_loss  Instances       Size\n"
     ]
    },
    {
     "name": "stderr",
     "output_type": "stream",
     "text": [
      "       9/50     0.508G      1.432     0.7843       0.95         16        256: 100%|██████████| 59/59 [00:05<00:00, 10.\n",
      "                 Class     Images  Instances      Box(P          R      mAP50  mAP50-95): 100%|██████████| 4/4 [00:00<0"
     ]
    },
    {
     "name": "stdout",
     "output_type": "stream",
     "text": [
      "                   all        118        118      0.913      0.796      0.904      0.473\n"
     ]
    },
    {
     "name": "stderr",
     "output_type": "stream",
     "text": [
      "\n"
     ]
    },
    {
     "name": "stdout",
     "output_type": "stream",
     "text": [
      "\n",
      "      Epoch    GPU_mem   box_loss   cls_loss   dfl_loss  Instances       Size\n"
     ]
    },
    {
     "name": "stderr",
     "output_type": "stream",
     "text": [
      "      10/50     0.508G      1.469     0.7741     0.9407         18        256: 100%|██████████| 59/59 [00:05<00:00, 10.\n",
      "                 Class     Images  Instances      Box(P          R      mAP50  mAP50-95): 100%|██████████| 4/4 [00:00<0"
     ]
    },
    {
     "name": "stdout",
     "output_type": "stream",
     "text": [
      "                   all        118        118      0.919      0.864      0.924      0.551\n"
     ]
    },
    {
     "name": "stderr",
     "output_type": "stream",
     "text": [
      "\n"
     ]
    },
    {
     "name": "stdout",
     "output_type": "stream",
     "text": [
      "\n",
      "      Epoch    GPU_mem   box_loss   cls_loss   dfl_loss  Instances       Size\n"
     ]
    },
    {
     "name": "stderr",
     "output_type": "stream",
     "text": [
      "      11/50     0.508G      1.494     0.7958     0.9474         24        256: 100%|██████████| 59/59 [00:05<00:00, 10.\n",
      "                 Class     Images  Instances      Box(P          R      mAP50  mAP50-95): 100%|██████████| 4/4 [00:00<0"
     ]
    },
    {
     "name": "stdout",
     "output_type": "stream",
     "text": [
      "                   all        118        118      0.845      0.881      0.919      0.437\n"
     ]
    },
    {
     "name": "stderr",
     "output_type": "stream",
     "text": [
      "\n"
     ]
    },
    {
     "name": "stdout",
     "output_type": "stream",
     "text": [
      "\n",
      "      Epoch    GPU_mem   box_loss   cls_loss   dfl_loss  Instances       Size\n"
     ]
    },
    {
     "name": "stderr",
     "output_type": "stream",
     "text": [
      "      12/50     0.508G      1.455     0.7733     0.9508         18        256: 100%|██████████| 59/59 [00:05<00:00, 10.\n",
      "                 Class     Images  Instances      Box(P          R      mAP50  mAP50-95): 100%|██████████| 4/4 [00:00<0"
     ]
    },
    {
     "name": "stdout",
     "output_type": "stream",
     "text": [
      "                   all        118        118      0.892      0.909      0.948      0.558\n"
     ]
    },
    {
     "name": "stderr",
     "output_type": "stream",
     "text": [
      "\n"
     ]
    },
    {
     "name": "stdout",
     "output_type": "stream",
     "text": [
      "\n",
      "      Epoch    GPU_mem   box_loss   cls_loss   dfl_loss  Instances       Size\n"
     ]
    },
    {
     "name": "stderr",
     "output_type": "stream",
     "text": [
      "      13/50     0.508G      1.463     0.7858     0.9533         24        256: 100%|██████████| 59/59 [00:05<00:00, 10.\n",
      "                 Class     Images  Instances      Box(P          R      mAP50  mAP50-95): 100%|██████████| 4/4 [00:00<0"
     ]
    },
    {
     "name": "stdout",
     "output_type": "stream",
     "text": [
      "                   all        118        118      0.956      0.898       0.95       0.58\n"
     ]
    },
    {
     "name": "stderr",
     "output_type": "stream",
     "text": [
      "\n"
     ]
    },
    {
     "name": "stdout",
     "output_type": "stream",
     "text": [
      "\n",
      "      Epoch    GPU_mem   box_loss   cls_loss   dfl_loss  Instances       Size\n"
     ]
    },
    {
     "name": "stderr",
     "output_type": "stream",
     "text": [
      "      14/50     0.508G      1.446     0.7577     0.9424         20        256: 100%|██████████| 59/59 [00:05<00:00,  9.\n",
      "                 Class     Images  Instances      Box(P          R      mAP50  mAP50-95): 100%|██████████| 4/4 [00:00<0"
     ]
    },
    {
     "name": "stdout",
     "output_type": "stream",
     "text": [
      "                   all        118        118      0.939      0.898      0.945      0.571\n"
     ]
    },
    {
     "name": "stderr",
     "output_type": "stream",
     "text": [
      "\n"
     ]
    },
    {
     "name": "stdout",
     "output_type": "stream",
     "text": [
      "\n",
      "      Epoch    GPU_mem   box_loss   cls_loss   dfl_loss  Instances       Size\n"
     ]
    },
    {
     "name": "stderr",
     "output_type": "stream",
     "text": [
      "      15/50     0.508G      1.381     0.7238      0.935         21        256: 100%|██████████| 59/59 [00:05<00:00, 10.\n",
      "                 Class     Images  Instances      Box(P          R      mAP50  mAP50-95): 100%|██████████| 4/4 [00:00<0"
     ]
    },
    {
     "name": "stdout",
     "output_type": "stream",
     "text": [
      "                   all        118        118      0.958      0.831      0.927      0.577\n"
     ]
    },
    {
     "name": "stderr",
     "output_type": "stream",
     "text": [
      "\n"
     ]
    },
    {
     "name": "stdout",
     "output_type": "stream",
     "text": [
      "\n",
      "      Epoch    GPU_mem   box_loss   cls_loss   dfl_loss  Instances       Size\n"
     ]
    },
    {
     "name": "stderr",
     "output_type": "stream",
     "text": [
      "      16/50     0.508G      1.372     0.7155     0.9242         22        256: 100%|██████████| 59/59 [00:05<00:00, 10.\n",
      "                 Class     Images  Instances      Box(P          R      mAP50  mAP50-95): 100%|██████████| 4/4 [00:00<0"
     ]
    },
    {
     "name": "stdout",
     "output_type": "stream",
     "text": [
      "                   all        118        118       0.95      0.907      0.963      0.606\n"
     ]
    },
    {
     "name": "stderr",
     "output_type": "stream",
     "text": [
      "\n"
     ]
    },
    {
     "name": "stdout",
     "output_type": "stream",
     "text": [
      "\n",
      "      Epoch    GPU_mem   box_loss   cls_loss   dfl_loss  Instances       Size\n"
     ]
    },
    {
     "name": "stderr",
     "output_type": "stream",
     "text": [
      "      17/50     0.508G      1.313     0.6973     0.9134         18        256: 100%|██████████| 59/59 [00:05<00:00, 10.\n",
      "                 Class     Images  Instances      Box(P          R      mAP50  mAP50-95): 100%|██████████| 4/4 [00:00<0"
     ]
    },
    {
     "name": "stdout",
     "output_type": "stream",
     "text": [
      "                   all        118        118      0.961       0.89      0.946      0.568\n"
     ]
    },
    {
     "name": "stderr",
     "output_type": "stream",
     "text": [
      "\n"
     ]
    },
    {
     "name": "stdout",
     "output_type": "stream",
     "text": [
      "\n",
      "      Epoch    GPU_mem   box_loss   cls_loss   dfl_loss  Instances       Size\n"
     ]
    },
    {
     "name": "stderr",
     "output_type": "stream",
     "text": [
      "      18/50     0.508G      1.343     0.6964      0.915         23        256: 100%|██████████| 59/59 [00:05<00:00, 10.\n",
      "                 Class     Images  Instances      Box(P          R      mAP50  mAP50-95): 100%|██████████| 4/4 [00:00<0"
     ]
    },
    {
     "name": "stdout",
     "output_type": "stream",
     "text": [
      "                   all        118        118      0.924      0.934      0.969      0.601\n"
     ]
    },
    {
     "name": "stderr",
     "output_type": "stream",
     "text": [
      "\n"
     ]
    },
    {
     "name": "stdout",
     "output_type": "stream",
     "text": [
      "\n",
      "      Epoch    GPU_mem   box_loss   cls_loss   dfl_loss  Instances       Size\n"
     ]
    },
    {
     "name": "stderr",
     "output_type": "stream",
     "text": [
      "      19/50     0.508G      1.415     0.7142     0.9422         16        256: 100%|██████████| 59/59 [00:05<00:00, 11.\n",
      "                 Class     Images  Instances      Box(P          R      mAP50  mAP50-95): 100%|██████████| 4/4 [00:00<0"
     ]
    },
    {
     "name": "stdout",
     "output_type": "stream",
     "text": [
      "                   all        118        118      0.963      0.889      0.952      0.588\n"
     ]
    },
    {
     "name": "stderr",
     "output_type": "stream",
     "text": [
      "\n"
     ]
    },
    {
     "name": "stdout",
     "output_type": "stream",
     "text": [
      "\n",
      "      Epoch    GPU_mem   box_loss   cls_loss   dfl_loss  Instances       Size\n"
     ]
    },
    {
     "name": "stderr",
     "output_type": "stream",
     "text": [
      "      20/50     0.508G       1.39     0.7332     0.9361         19        256: 100%|██████████| 59/59 [00:05<00:00, 11.\n",
      "                 Class     Images  Instances      Box(P          R      mAP50  mAP50-95): 100%|██████████| 4/4 [00:00<0"
     ]
    },
    {
     "name": "stdout",
     "output_type": "stream",
     "text": [
      "                   all        118        118      0.974      0.881      0.948      0.584\n"
     ]
    },
    {
     "name": "stderr",
     "output_type": "stream",
     "text": [
      "\n"
     ]
    },
    {
     "name": "stdout",
     "output_type": "stream",
     "text": [
      "\n",
      "      Epoch    GPU_mem   box_loss   cls_loss   dfl_loss  Instances       Size\n"
     ]
    },
    {
     "name": "stderr",
     "output_type": "stream",
     "text": [
      "      21/50     0.508G      1.333     0.6904     0.9279         18        256: 100%|██████████| 59/59 [00:05<00:00, 11.\n",
      "                 Class     Images  Instances      Box(P          R      mAP50  mAP50-95): 100%|██████████| 4/4 [00:00<0"
     ]
    },
    {
     "name": "stdout",
     "output_type": "stream",
     "text": [
      "                   all        118        118      0.946      0.898      0.937      0.579\n"
     ]
    },
    {
     "name": "stderr",
     "output_type": "stream",
     "text": [
      "\n"
     ]
    },
    {
     "name": "stdout",
     "output_type": "stream",
     "text": [
      "\n",
      "      Epoch    GPU_mem   box_loss   cls_loss   dfl_loss  Instances       Size\n"
     ]
    },
    {
     "name": "stderr",
     "output_type": "stream",
     "text": [
      "      22/50     0.508G      1.381     0.7217     0.9342         23        256: 100%|██████████| 59/59 [00:05<00:00, 11.\n",
      "                 Class     Images  Instances      Box(P          R      mAP50  mAP50-95): 100%|██████████| 4/4 [00:00<0"
     ]
    },
    {
     "name": "stdout",
     "output_type": "stream",
     "text": [
      "                   all        118        118      0.918       0.86      0.924      0.579\n"
     ]
    },
    {
     "name": "stderr",
     "output_type": "stream",
     "text": [
      "\n"
     ]
    },
    {
     "name": "stdout",
     "output_type": "stream",
     "text": [
      "\n",
      "      Epoch    GPU_mem   box_loss   cls_loss   dfl_loss  Instances       Size\n"
     ]
    },
    {
     "name": "stderr",
     "output_type": "stream",
     "text": [
      "      23/50     0.508G      1.347     0.6936     0.9181         22        256: 100%|██████████| 59/59 [00:05<00:00, 11.\n",
      "                 Class     Images  Instances      Box(P          R      mAP50  mAP50-95): 100%|██████████| 4/4 [00:00<0"
     ]
    },
    {
     "name": "stdout",
     "output_type": "stream",
     "text": [
      "                   all        118        118      0.959      0.924      0.961      0.599\n"
     ]
    },
    {
     "name": "stderr",
     "output_type": "stream",
     "text": [
      "\n"
     ]
    },
    {
     "name": "stdout",
     "output_type": "stream",
     "text": [
      "\n",
      "      Epoch    GPU_mem   box_loss   cls_loss   dfl_loss  Instances       Size\n"
     ]
    },
    {
     "name": "stderr",
     "output_type": "stream",
     "text": [
      "      24/50     0.508G      1.328     0.6872     0.9122         13        256: 100%|██████████| 59/59 [00:05<00:00, 10.\n",
      "                 Class     Images  Instances      Box(P          R      mAP50  mAP50-95): 100%|██████████| 4/4 [00:00<0"
     ]
    },
    {
     "name": "stdout",
     "output_type": "stream",
     "text": [
      "                   all        118        118      0.946      0.899      0.965      0.602\n"
     ]
    },
    {
     "name": "stderr",
     "output_type": "stream",
     "text": [
      "\n"
     ]
    },
    {
     "name": "stdout",
     "output_type": "stream",
     "text": [
      "\n",
      "      Epoch    GPU_mem   box_loss   cls_loss   dfl_loss  Instances       Size\n"
     ]
    },
    {
     "name": "stderr",
     "output_type": "stream",
     "text": [
      "      25/50     0.508G      1.325     0.6892     0.9199         21        256: 100%|██████████| 59/59 [00:05<00:00,  9.\n",
      "                 Class     Images  Instances      Box(P          R      mAP50  mAP50-95): 100%|██████████| 4/4 [00:00<0"
     ]
    },
    {
     "name": "stdout",
     "output_type": "stream",
     "text": [
      "                   all        118        118      0.937      0.886      0.932      0.579\n"
     ]
    },
    {
     "name": "stderr",
     "output_type": "stream",
     "text": [
      "\n"
     ]
    },
    {
     "name": "stdout",
     "output_type": "stream",
     "text": [
      "\n",
      "      Epoch    GPU_mem   box_loss   cls_loss   dfl_loss  Instances       Size\n"
     ]
    },
    {
     "name": "stderr",
     "output_type": "stream",
     "text": [
      "      26/50     0.508G      1.351     0.6867     0.9218         20        256: 100%|██████████| 59/59 [00:05<00:00, 10.\n",
      "                 Class     Images  Instances      Box(P          R      mAP50  mAP50-95): 100%|██████████| 4/4 [00:00<0"
     ]
    },
    {
     "name": "stdout",
     "output_type": "stream",
     "text": [
      "                   all        118        118      0.967      0.864      0.953      0.584\n"
     ]
    },
    {
     "name": "stderr",
     "output_type": "stream",
     "text": [
      "\n"
     ]
    },
    {
     "name": "stdout",
     "output_type": "stream",
     "text": [
      "\n",
      "      Epoch    GPU_mem   box_loss   cls_loss   dfl_loss  Instances       Size\n"
     ]
    },
    {
     "name": "stderr",
     "output_type": "stream",
     "text": [
      "      27/50     0.508G      1.342     0.6906      0.915         24        256: 100%|██████████| 59/59 [00:05<00:00, 10.\n",
      "                 Class     Images  Instances      Box(P          R      mAP50  mAP50-95): 100%|██████████| 4/4 [00:00<0"
     ]
    },
    {
     "name": "stdout",
     "output_type": "stream",
     "text": [
      "                   all        118        118      0.945      0.866      0.943      0.554\n"
     ]
    },
    {
     "name": "stderr",
     "output_type": "stream",
     "text": [
      "\n"
     ]
    },
    {
     "name": "stdout",
     "output_type": "stream",
     "text": [
      "\n",
      "      Epoch    GPU_mem   box_loss   cls_loss   dfl_loss  Instances       Size\n"
     ]
    },
    {
     "name": "stderr",
     "output_type": "stream",
     "text": [
      "      28/50     0.508G       1.32     0.6854     0.9141         16        256: 100%|██████████| 59/59 [00:05<00:00, 10.\n",
      "                 Class     Images  Instances      Box(P          R      mAP50  mAP50-95): 100%|██████████| 4/4 [00:00<0"
     ]
    },
    {
     "name": "stdout",
     "output_type": "stream",
     "text": [
      "                   all        118        118      0.931      0.918      0.952      0.619\n"
     ]
    },
    {
     "name": "stderr",
     "output_type": "stream",
     "text": [
      "\n"
     ]
    },
    {
     "name": "stdout",
     "output_type": "stream",
     "text": [
      "\n",
      "      Epoch    GPU_mem   box_loss   cls_loss   dfl_loss  Instances       Size\n"
     ]
    },
    {
     "name": "stderr",
     "output_type": "stream",
     "text": [
      "      29/50     0.508G      1.291     0.6708     0.9008         16        256: 100%|██████████| 59/59 [00:05<00:00, 10.\n",
      "                 Class     Images  Instances      Box(P          R      mAP50  mAP50-95): 100%|██████████| 4/4 [00:00<0"
     ]
    },
    {
     "name": "stdout",
     "output_type": "stream",
     "text": [
      "                   all        118        118      0.943      0.873      0.937      0.601\n"
     ]
    },
    {
     "name": "stderr",
     "output_type": "stream",
     "text": [
      "\n"
     ]
    },
    {
     "name": "stdout",
     "output_type": "stream",
     "text": [
      "\n",
      "      Epoch    GPU_mem   box_loss   cls_loss   dfl_loss  Instances       Size\n"
     ]
    },
    {
     "name": "stderr",
     "output_type": "stream",
     "text": [
      "      30/50     0.508G       1.29     0.6645     0.9041         22        256: 100%|██████████| 59/59 [00:05<00:00, 10.\n",
      "                 Class     Images  Instances      Box(P          R      mAP50  mAP50-95): 100%|██████████| 4/4 [00:00<0"
     ]
    },
    {
     "name": "stdout",
     "output_type": "stream",
     "text": [
      "                   all        118        118      0.953      0.855      0.929      0.576\n"
     ]
    },
    {
     "name": "stderr",
     "output_type": "stream",
     "text": [
      "\n"
     ]
    },
    {
     "name": "stdout",
     "output_type": "stream",
     "text": [
      "\n",
      "      Epoch    GPU_mem   box_loss   cls_loss   dfl_loss  Instances       Size\n"
     ]
    },
    {
     "name": "stderr",
     "output_type": "stream",
     "text": [
      "      31/50     0.508G        1.3     0.6473     0.9149         24        256: 100%|██████████| 59/59 [00:05<00:00, 10.\n",
      "                 Class     Images  Instances      Box(P          R      mAP50  mAP50-95): 100%|██████████| 4/4 [00:00<0"
     ]
    },
    {
     "name": "stdout",
     "output_type": "stream",
     "text": [
      "                   all        118        118      0.963      0.885      0.942       0.62\n"
     ]
    },
    {
     "name": "stderr",
     "output_type": "stream",
     "text": [
      "\n"
     ]
    },
    {
     "name": "stdout",
     "output_type": "stream",
     "text": [
      "\n",
      "      Epoch    GPU_mem   box_loss   cls_loss   dfl_loss  Instances       Size\n"
     ]
    },
    {
     "name": "stderr",
     "output_type": "stream",
     "text": [
      "      32/50     0.508G      1.303     0.6601     0.9052         23        256: 100%|██████████| 59/59 [00:05<00:00, 11.\n",
      "                 Class     Images  Instances      Box(P          R      mAP50  mAP50-95): 100%|██████████| 4/4 [00:00<0"
     ]
    },
    {
     "name": "stdout",
     "output_type": "stream",
     "text": [
      "                   all        118        118      0.955      0.915      0.961       0.63\n"
     ]
    },
    {
     "name": "stderr",
     "output_type": "stream",
     "text": [
      "\n"
     ]
    },
    {
     "name": "stdout",
     "output_type": "stream",
     "text": [
      "\n",
      "      Epoch    GPU_mem   box_loss   cls_loss   dfl_loss  Instances       Size\n"
     ]
    },
    {
     "name": "stderr",
     "output_type": "stream",
     "text": [
      "      33/50     0.508G      1.255     0.6446     0.9017         18        256: 100%|██████████| 59/59 [00:05<00:00, 11.\n",
      "                 Class     Images  Instances      Box(P          R      mAP50  mAP50-95): 100%|██████████| 4/4 [00:00<0"
     ]
    },
    {
     "name": "stdout",
     "output_type": "stream",
     "text": [
      "                   all        118        118      0.937      0.915      0.952      0.623\n"
     ]
    },
    {
     "name": "stderr",
     "output_type": "stream",
     "text": [
      "\n"
     ]
    },
    {
     "name": "stdout",
     "output_type": "stream",
     "text": [
      "\n",
      "      Epoch    GPU_mem   box_loss   cls_loss   dfl_loss  Instances       Size\n"
     ]
    },
    {
     "name": "stderr",
     "output_type": "stream",
     "text": [
      "      34/50     0.508G      1.241     0.6312     0.8993         20        256: 100%|██████████| 59/59 [00:05<00:00, 10.\n",
      "                 Class     Images  Instances      Box(P          R      mAP50  mAP50-95): 100%|██████████| 4/4 [00:00<0"
     ]
    },
    {
     "name": "stdout",
     "output_type": "stream",
     "text": [
      "                   all        118        118      0.933       0.89      0.957        0.6\n"
     ]
    },
    {
     "name": "stderr",
     "output_type": "stream",
     "text": [
      "\n"
     ]
    },
    {
     "name": "stdout",
     "output_type": "stream",
     "text": [
      "\n",
      "      Epoch    GPU_mem   box_loss   cls_loss   dfl_loss  Instances       Size\n"
     ]
    },
    {
     "name": "stderr",
     "output_type": "stream",
     "text": [
      "      35/50     0.508G      1.285     0.6441     0.8974         23        256: 100%|██████████| 59/59 [00:05<00:00, 11.\n",
      "                 Class     Images  Instances      Box(P          R      mAP50  mAP50-95): 100%|██████████| 4/4 [00:00<0"
     ]
    },
    {
     "name": "stdout",
     "output_type": "stream",
     "text": [
      "                   all        118        118       0.95      0.907      0.951      0.605\n"
     ]
    },
    {
     "name": "stderr",
     "output_type": "stream",
     "text": [
      "\n"
     ]
    },
    {
     "name": "stdout",
     "output_type": "stream",
     "text": [
      "\n",
      "      Epoch    GPU_mem   box_loss   cls_loss   dfl_loss  Instances       Size\n"
     ]
    },
    {
     "name": "stderr",
     "output_type": "stream",
     "text": [
      "      36/50     0.508G      1.259     0.6412     0.9058         20        256: 100%|██████████| 59/59 [00:05<00:00, 11.\n",
      "                 Class     Images  Instances      Box(P          R      mAP50  mAP50-95): 100%|██████████| 4/4 [00:00<0"
     ]
    },
    {
     "name": "stdout",
     "output_type": "stream",
     "text": [
      "                   all        118        118      0.956      0.918      0.962      0.637\n"
     ]
    },
    {
     "name": "stderr",
     "output_type": "stream",
     "text": [
      "\n"
     ]
    },
    {
     "name": "stdout",
     "output_type": "stream",
     "text": [
      "\n",
      "      Epoch    GPU_mem   box_loss   cls_loss   dfl_loss  Instances       Size\n"
     ]
    },
    {
     "name": "stderr",
     "output_type": "stream",
     "text": [
      "      37/50     0.508G      1.249     0.6447     0.9048         18        256: 100%|██████████| 59/59 [00:05<00:00, 10.\n",
      "                 Class     Images  Instances      Box(P          R      mAP50  mAP50-95): 100%|██████████| 4/4 [00:00<0"
     ]
    },
    {
     "name": "stdout",
     "output_type": "stream",
     "text": [
      "                   all        118        118          1      0.922      0.972      0.624\n"
     ]
    },
    {
     "name": "stderr",
     "output_type": "stream",
     "text": [
      "\n"
     ]
    },
    {
     "name": "stdout",
     "output_type": "stream",
     "text": [
      "\n",
      "      Epoch    GPU_mem   box_loss   cls_loss   dfl_loss  Instances       Size\n"
     ]
    },
    {
     "name": "stderr",
     "output_type": "stream",
     "text": [
      "      38/50     0.508G      1.222     0.6164     0.8954         25        256: 100%|██████████| 59/59 [00:05<00:00, 10.\n",
      "                 Class     Images  Instances      Box(P          R      mAP50  mAP50-95): 100%|██████████| 4/4 [00:00<0"
     ]
    },
    {
     "name": "stdout",
     "output_type": "stream",
     "text": [
      "                   all        118        118       0.93      0.895       0.95      0.636\n"
     ]
    },
    {
     "name": "stderr",
     "output_type": "stream",
     "text": [
      "\n"
     ]
    },
    {
     "name": "stdout",
     "output_type": "stream",
     "text": [
      "\n",
      "      Epoch    GPU_mem   box_loss   cls_loss   dfl_loss  Instances       Size\n"
     ]
    },
    {
     "name": "stderr",
     "output_type": "stream",
     "text": [
      "      39/50     0.508G      1.217     0.6161     0.8907         17        256: 100%|██████████| 59/59 [00:05<00:00, 10.\n",
      "                 Class     Images  Instances      Box(P          R      mAP50  mAP50-95): 100%|██████████| 4/4 [00:00<0"
     ]
    },
    {
     "name": "stdout",
     "output_type": "stream",
     "text": [
      "                   all        118        118      0.923      0.898      0.948      0.624\n"
     ]
    },
    {
     "name": "stderr",
     "output_type": "stream",
     "text": [
      "\n"
     ]
    },
    {
     "name": "stdout",
     "output_type": "stream",
     "text": [
      "\n",
      "      Epoch    GPU_mem   box_loss   cls_loss   dfl_loss  Instances       Size\n"
     ]
    },
    {
     "name": "stderr",
     "output_type": "stream",
     "text": [
      "      40/50     0.508G      1.221     0.6225      0.902         17        256: 100%|██████████| 59/59 [00:05<00:00,  9.\n",
      "                 Class     Images  Instances      Box(P          R      mAP50  mAP50-95): 100%|██████████| 4/4 [00:00<0"
     ]
    },
    {
     "name": "stdout",
     "output_type": "stream",
     "text": [
      "                   all        118        118      0.942      0.932      0.949      0.608\n"
     ]
    },
    {
     "name": "stderr",
     "output_type": "stream",
     "text": [
      "\n"
     ]
    },
    {
     "name": "stdout",
     "output_type": "stream",
     "text": [
      "Closing dataloader mosaic\n",
      "\u001b[34m\u001b[1malbumentations: \u001b[0mBlur(p=0.01, blur_limit=(3, 7)), MedianBlur(p=0.01, blur_limit=(3, 7)), ToGray(p=0.01, num_output_channels=3, method='weighted_average'), CLAHE(p=0.01, clip_limit=(1.0, 4.0), tile_grid_size=(8, 8))\n",
      "\n",
      "      Epoch    GPU_mem   box_loss   cls_loss   dfl_loss  Instances       Size\n"
     ]
    },
    {
     "name": "stderr",
     "output_type": "stream",
     "text": [
      "      41/50     0.508G      1.165     0.5918     0.9022         14        256: 100%|██████████| 59/59 [00:06<00:00,  9.\n",
      "                 Class     Images  Instances      Box(P          R      mAP50  mAP50-95): 100%|██████████| 4/4 [00:00<0"
     ]
    },
    {
     "name": "stdout",
     "output_type": "stream",
     "text": [
      "                   all        118        118      0.957      0.933      0.974      0.629\n"
     ]
    },
    {
     "name": "stderr",
     "output_type": "stream",
     "text": [
      "\n"
     ]
    },
    {
     "name": "stdout",
     "output_type": "stream",
     "text": [
      "\n",
      "      Epoch    GPU_mem   box_loss   cls_loss   dfl_loss  Instances       Size\n"
     ]
    },
    {
     "name": "stderr",
     "output_type": "stream",
     "text": [
      "      42/50     0.508G      1.131     0.5755     0.8946         14        256: 100%|██████████| 59/59 [00:05<00:00, 10.\n",
      "                 Class     Images  Instances      Box(P          R      mAP50  mAP50-95): 100%|██████████| 4/4 [00:00<0"
     ]
    },
    {
     "name": "stdout",
     "output_type": "stream",
     "text": [
      "                   all        118        118      0.978      0.924      0.972      0.628\n"
     ]
    },
    {
     "name": "stderr",
     "output_type": "stream",
     "text": [
      "\n"
     ]
    },
    {
     "name": "stdout",
     "output_type": "stream",
     "text": [
      "\n",
      "      Epoch    GPU_mem   box_loss   cls_loss   dfl_loss  Instances       Size\n"
     ]
    },
    {
     "name": "stderr",
     "output_type": "stream",
     "text": [
      "      43/50     0.508G      1.124     0.5655     0.8928         14        256: 100%|██████████| 59/59 [00:05<00:00, 10.\n",
      "                 Class     Images  Instances      Box(P          R      mAP50  mAP50-95): 100%|██████████| 4/4 [00:00<0"
     ]
    },
    {
     "name": "stdout",
     "output_type": "stream",
     "text": [
      "                   all        118        118      0.961      0.915      0.967      0.644\n"
     ]
    },
    {
     "name": "stderr",
     "output_type": "stream",
     "text": [
      "\n"
     ]
    },
    {
     "name": "stdout",
     "output_type": "stream",
     "text": [
      "\n",
      "      Epoch    GPU_mem   box_loss   cls_loss   dfl_loss  Instances       Size\n"
     ]
    },
    {
     "name": "stderr",
     "output_type": "stream",
     "text": [
      "      44/50     0.508G      1.109     0.5546     0.8918         14        256: 100%|██████████| 59/59 [00:05<00:00, 10.\n",
      "                 Class     Images  Instances      Box(P          R      mAP50  mAP50-95): 100%|██████████| 4/4 [00:00<0"
     ]
    },
    {
     "name": "stdout",
     "output_type": "stream",
     "text": [
      "                   all        118        118       0.97      0.932      0.972      0.651\n"
     ]
    },
    {
     "name": "stderr",
     "output_type": "stream",
     "text": [
      "\n"
     ]
    },
    {
     "name": "stdout",
     "output_type": "stream",
     "text": [
      "\n",
      "      Epoch    GPU_mem   box_loss   cls_loss   dfl_loss  Instances       Size\n"
     ]
    },
    {
     "name": "stderr",
     "output_type": "stream",
     "text": [
      "      45/50     0.508G      1.098     0.5466      0.879         14        256: 100%|██████████| 59/59 [00:05<00:00, 10.\n",
      "                 Class     Images  Instances      Box(P          R      mAP50  mAP50-95): 100%|██████████| 4/4 [00:00<0"
     ]
    },
    {
     "name": "stdout",
     "output_type": "stream",
     "text": [
      "                   all        118        118      0.964       0.92      0.961      0.651\n"
     ]
    },
    {
     "name": "stderr",
     "output_type": "stream",
     "text": [
      "\n"
     ]
    },
    {
     "name": "stdout",
     "output_type": "stream",
     "text": [
      "\n",
      "      Epoch    GPU_mem   box_loss   cls_loss   dfl_loss  Instances       Size\n"
     ]
    },
    {
     "name": "stderr",
     "output_type": "stream",
     "text": [
      "      46/50     0.508G      1.092     0.5474     0.8734         14        256: 100%|██████████| 59/59 [00:05<00:00, 10.\n",
      "                 Class     Images  Instances      Box(P          R      mAP50  mAP50-95): 100%|██████████| 4/4 [00:00<0"
     ]
    },
    {
     "name": "stdout",
     "output_type": "stream",
     "text": [
      "                   all        118        118      0.982      0.948      0.978      0.655\n"
     ]
    },
    {
     "name": "stderr",
     "output_type": "stream",
     "text": [
      "\n"
     ]
    },
    {
     "name": "stdout",
     "output_type": "stream",
     "text": [
      "\n",
      "      Epoch    GPU_mem   box_loss   cls_loss   dfl_loss  Instances       Size\n"
     ]
    },
    {
     "name": "stderr",
     "output_type": "stream",
     "text": [
      "      47/50     0.508G      1.079     0.5395     0.8825         14        256: 100%|██████████| 59/59 [00:05<00:00, 10.\n",
      "                 Class     Images  Instances      Box(P          R      mAP50  mAP50-95): 100%|██████████| 4/4 [00:00<0"
     ]
    },
    {
     "name": "stdout",
     "output_type": "stream",
     "text": [
      "                   all        118        118      0.961      0.949      0.977      0.652\n"
     ]
    },
    {
     "name": "stderr",
     "output_type": "stream",
     "text": [
      "\n"
     ]
    },
    {
     "name": "stdout",
     "output_type": "stream",
     "text": [
      "\n",
      "      Epoch    GPU_mem   box_loss   cls_loss   dfl_loss  Instances       Size\n"
     ]
    },
    {
     "name": "stderr",
     "output_type": "stream",
     "text": [
      "      48/50     0.508G      1.065     0.5258     0.8843         14        256: 100%|██████████| 59/59 [00:05<00:00, 10.\n",
      "                 Class     Images  Instances      Box(P          R      mAP50  mAP50-95): 100%|██████████| 4/4 [00:00<0"
     ]
    },
    {
     "name": "stdout",
     "output_type": "stream",
     "text": [
      "                   all        118        118      0.964       0.92      0.965      0.676\n"
     ]
    },
    {
     "name": "stderr",
     "output_type": "stream",
     "text": [
      "\n"
     ]
    },
    {
     "name": "stdout",
     "output_type": "stream",
     "text": [
      "\n",
      "      Epoch    GPU_mem   box_loss   cls_loss   dfl_loss  Instances       Size\n"
     ]
    },
    {
     "name": "stderr",
     "output_type": "stream",
     "text": [
      "      49/50     0.508G      1.081     0.5197     0.8901         14        256: 100%|██████████| 59/59 [00:05<00:00, 10.\n",
      "                 Class     Images  Instances      Box(P          R      mAP50  mAP50-95): 100%|██████████| 4/4 [00:00<0"
     ]
    },
    {
     "name": "stdout",
     "output_type": "stream",
     "text": [
      "                   all        118        118      0.982      0.937      0.976      0.663\n"
     ]
    },
    {
     "name": "stderr",
     "output_type": "stream",
     "text": [
      "\n"
     ]
    },
    {
     "name": "stdout",
     "output_type": "stream",
     "text": [
      "\n",
      "      Epoch    GPU_mem   box_loss   cls_loss   dfl_loss  Instances       Size\n"
     ]
    },
    {
     "name": "stderr",
     "output_type": "stream",
     "text": [
      "      50/50     0.508G      1.083     0.5199     0.8846         14        256: 100%|██████████| 59/59 [00:05<00:00, 10.\n",
      "                 Class     Images  Instances      Box(P          R      mAP50  mAP50-95): 100%|██████████| 4/4 [00:00<0"
     ]
    },
    {
     "name": "stdout",
     "output_type": "stream",
     "text": [
      "                   all        118        118      0.981      0.941      0.974      0.654\n"
     ]
    },
    {
     "name": "stderr",
     "output_type": "stream",
     "text": [
      "\n"
     ]
    },
    {
     "name": "stdout",
     "output_type": "stream",
     "text": [
      "\n",
      "50 epochs completed in 0.097 hours.\n",
      "Optimizer stripped from runs\\train\\exp112\\weights\\last.pt, 6.2MB\n",
      "Optimizer stripped from runs\\train\\exp112\\weights\\best.pt, 6.2MB\n",
      "\n",
      "Validating runs\\train\\exp112\\weights\\best.pt...\n",
      "Ultralytics 8.3.153  Python-3.8.20 torch-2.4.1+cu121 CUDA:0 (NVIDIA GeForce RTX 4060 Laptop GPU, 8188MiB)\n",
      "Model summary (fused): 72 layers, 3,005,843 parameters, 0 gradients, 8.1 GFLOPs\n"
     ]
    },
    {
     "name": "stderr",
     "output_type": "stream",
     "text": [
      "                 Class     Images  Instances      Box(P          R      mAP50  mAP50-95): 100%|██████████| 4/4 [00:00<0\n"
     ]
    },
    {
     "name": "stdout",
     "output_type": "stream",
     "text": [
      "                   all        118        118      0.964      0.914      0.965      0.676\n",
      "Speed: 0.4ms preprocess, 1.2ms inference, 0.0ms loss, 1.4ms postprocess per image\n",
      "Results saved to \u001b[1mruns\\train\\exp112\u001b[0m\n",
      "Ultralytics 8.3.153  Python-3.8.20 torch-2.4.1+cu121 CUDA:0 (NVIDIA GeForce RTX 4060 Laptop GPU, 8188MiB)\n",
      "Model summary (fused): 72 layers, 3,005,843 parameters, 0 gradients, 8.1 GFLOPs\n",
      "\u001b[34m\u001b[1mval: \u001b[0mFast image access  (ping: 0.10.1 ms, read: 1.61.7 MB/s, size: 5.1 KB)\n"
     ]
    },
    {
     "name": "stderr",
     "output_type": "stream",
     "text": [
      "\u001b[34m\u001b[1mval: \u001b[0mScanning C:\\Users\\alexi\\dataset_yolo\\labels\\test\\nac.cache... 59 images, 0 backgrounds, 0 corrupt: 100%|██████████\u001b[0m\n",
      "                 Class     Images  Instances      Box(P          R      mAP50  mAP50-95): 100%|██████████| 4/4 [00:04<0\n"
     ]
    },
    {
     "name": "stdout",
     "output_type": "stream",
     "text": [
      "                   all         59         59      0.914        0.9      0.932      0.622\n",
      "Speed: 0.7ms preprocess, 4.5ms inference, 0.0ms loss, 1.3ms postprocess per image\n",
      "Saving runs\\train\\exp1122\\predictions.json...\n",
      "Results saved to \u001b[1mruns\\train\\exp1122\u001b[0m\n",
      "Ultralytics 8.3.153  Python-3.8.20 torch-2.4.1+cu121 CUDA:0 (NVIDIA GeForce RTX 4060 Laptop GPU, 8188MiB)\n",
      "\u001b[34m\u001b[1mval: \u001b[0mFast image access  (ping: 0.10.0 ms, read: 1.41.1 MB/s, size: 2.7 KB)\n"
     ]
    },
    {
     "name": "stderr",
     "output_type": "stream",
     "text": [
      "\u001b[34m\u001b[1mval: \u001b[0mScanning C:\\Users\\alexi\\dataset_yolo\\labels\\test\\gen.cache... 59 images, 0 backgrounds, 0 corrupt: 100%|██████████\u001b[0m\n",
      "                 Class     Images  Instances      Box(P          R      mAP50  mAP50-95): 100%|██████████| 4/4 [00:03<0\n"
     ]
    },
    {
     "name": "stdout",
     "output_type": "stream",
     "text": [
      "                   all         59         59      0.963      0.966      0.991      0.747\n",
      "Speed: 0.9ms preprocess, 4.2ms inference, 0.0ms loss, 1.6ms postprocess per image\n",
      "Saving runs\\train\\exp1123\\predictions.json...\n",
      "Results saved to \u001b[1mruns\\train\\exp1123\u001b[0m\n",
      "\n",
      "image 1/1 C:\\Users\\alexi\\dataset_yolo\\images\\test\\nac\\img_164.png: 256x256 1 nac, 10.4ms\n",
      "Speed: 1.6ms preprocess, 10.4ms inference, 2.5ms postprocess per image at shape (1, 3, 256, 256)\n",
      "\n",
      "image 1/1 C:\\Users\\alexi\\dataset_yolo\\images\\test\\gen\\img_164_GEN.png: 256x256 1 nac, 10.4ms\n",
      "Speed: 1.2ms preprocess, 10.4ms inference, 2.2ms postprocess per image at shape (1, 3, 256, 256)\n",
      "\n",
      "image 1/1 C:\\Users\\alexi\\dataset_yolo\\images\\test\\nac\\img_326.png: 256x256 1 nac, 10.4ms\n",
      "Speed: 2.9ms preprocess, 10.4ms inference, 2.4ms postprocess per image at shape (1, 3, 256, 256)\n",
      "\n",
      "image 1/1 C:\\Users\\alexi\\dataset_yolo\\images\\test\\gen\\img_326_GEN.png: 256x256 1 nac, 10.0ms\n",
      "Speed: 1.0ms preprocess, 10.0ms inference, 2.3ms postprocess per image at shape (1, 3, 256, 256)\n",
      "\n",
      "image 1/1 C:\\Users\\alexi\\dataset_yolo\\images\\test\\nac\\img_359.png: 256x256 2 nacs, 10.3ms\n",
      "Speed: 1.3ms preprocess, 10.3ms inference, 2.2ms postprocess per image at shape (1, 3, 256, 256)\n",
      "\n",
      "image 1/1 C:\\Users\\alexi\\dataset_yolo\\images\\test\\gen\\img_359_GEN.png: 256x256 1 nac, 11.5ms\n",
      "Speed: 1.5ms preprocess, 11.5ms inference, 2.5ms postprocess per image at shape (1, 3, 256, 256)\n",
      "\n",
      "image 1/1 C:\\Users\\alexi\\dataset_yolo\\images\\test\\nac\\img_60.png: 256x256 1 nac, 10.2ms\n",
      "Speed: 1.6ms preprocess, 10.2ms inference, 2.2ms postprocess per image at shape (1, 3, 256, 256)\n",
      "\n",
      "image 1/1 C:\\Users\\alexi\\dataset_yolo\\images\\test\\gen\\img_60_GEN.png: 256x256 1 nac, 9.8ms\n",
      "Speed: 1.3ms preprocess, 9.8ms inference, 1.9ms postprocess per image at shape (1, 3, 256, 256)\n",
      "\n",
      "image 1/1 C:\\Users\\alexi\\dataset_yolo\\images\\test\\nac\\img_65.png: 256x256 1 nac, 11.3ms\n",
      "Speed: 1.3ms preprocess, 11.3ms inference, 2.4ms postprocess per image at shape (1, 3, 256, 256)\n",
      "\n",
      "image 1/1 C:\\Users\\alexi\\dataset_yolo\\images\\test\\gen\\img_65_GEN.png: 256x256 1 nac, 11.3ms\n",
      "Speed: 0.9ms preprocess, 11.3ms inference, 2.2ms postprocess per image at shape (1, 3, 256, 256)\n",
      "✅ Όλα ολοκληρώθηκαν. Τα αποτελέσματα αποθηκεύτηκαν στον φάκελο 'Yolo'\n"
     ]
    }
   ],
   "source": [
    "# -*- coding: utf-8 -*-\n",
    "\"\"\"\n",
    "YOLOv8 Dataset Preparation and Evaluation Script\n",
    "Includes: Training, Testing, Metrics Export, Graphs, and Sample Predictions\n",
    "\"\"\"\n",
    "\n",
    "import os\n",
    "import shutil\n",
    "from pathlib import Path\n",
    "from sklearn.model_selection import train_test_split\n",
    "import yaml\n",
    "import pandas as pd\n",
    "import matplotlib.pyplot as plt\n",
    "import cv2\n",
    "from ultralytics import YOLO\n",
    "\n",
    "# --------------------------------------------------\n",
    "# 1. Define Paths and Parameters\n",
    "# --------------------------------------------------\n",
    "\n",
    "# Input directories\n",
    "orig_img_dir    = Path(r\"C:\\Users\\alexi\\Downloads\\training_yolo_1_source\\NAC\")\n",
    "orig_label_dir  = Path(r\"C:\\Users\\alexi\\Downloads\\training_yolo_1_source\\nac_bb\")\n",
    "gen_img_dir     = Path(r\"C:\\Users\\alexi\\Downloads\\generated\")\n",
    "\n",
    "# Output directories\n",
    "proc_label_dir  = Path(\"processed_labels\")\n",
    "dataset_dir     = Path(\"dataset_yolo\")\n",
    "yolo_out_dir    = Path(\"Yolo\")\n",
    "yolo_out_dir.mkdir(exist_ok=True)\n",
    "\n",
    "# Dataset split ratios\n",
    "test_ratio_nac = 0.1\n",
    "test_ratio_gen = 0.1\n",
    "train_ratio    = 0.8\n",
    "val_ratio      = 0.1\n",
    "\n",
    "# Image size settings\n",
    "original_size = (199, 199)\n",
    "target_size   = (256, 256)\n",
    "\n",
    "# --------------------------------------------------\n",
    "# 2. Create Directories for Processed Labels\n",
    "# --------------------------------------------------\n",
    "for subset in [\"nac\", \"gen\"]:\n",
    "    (proc_label_dir / subset).mkdir(parents=True, exist_ok=True)\n",
    "\n",
    "# --------------------------------------------------\n",
    "# 3. Convert Bounding Boxes to YOLO Format\n",
    "# --------------------------------------------------\n",
    "def convert_and_save_label(src_path, dst_path, orig_size, target_size):\n",
    "    with src_path.open('r') as f:\n",
    "        lines = f.read().strip().splitlines()\n",
    "    if not lines:\n",
    "        return\n",
    "    ow, oh = orig_size\n",
    "    tw, th = target_size\n",
    "    sx, sy = tw / ow, th / oh\n",
    "    with dst_path.open('w') as f:\n",
    "        for line in lines:\n",
    "            x1, y1, x2, y2 = map(float, line.split())\n",
    "            x1_s, y1_s = x1 * sx, y1 * sy\n",
    "            x2_s, y2_s = x2 * sx, y2 * sy\n",
    "            xc = (x1_s + x2_s) / 2.0\n",
    "            yc = (y1_s + y2_s) / 2.0\n",
    "            w  = x2_s - x1_s\n",
    "            h  = y2_s - y1_s\n",
    "            f.write(f\"0 {xc/tw:.6f} {yc/th:.6f} {w/tw:.6f} {h/th:.6f}\\n\")\n",
    "\n",
    "# --------------------------------------------------\n",
    "# 4. Process Labels for NAC and Generated Images\n",
    "# --------------------------------------------------\n",
    "for img_path in orig_img_dir.glob(\"*.png\"):\n",
    "    src = orig_label_dir / f\"{img_path.stem}.txt\"\n",
    "    dst = proc_label_dir / \"nac\" / f\"{img_path.stem}.txt\"\n",
    "    if src.exists():\n",
    "        convert_and_save_label(src, dst, original_size, target_size)\n",
    "\n",
    "for img_path in gen_img_dir.glob(\"*_GEN.png\"):\n",
    "    base = img_path.stem.replace(\"_GEN\", \"\")\n",
    "    src = orig_label_dir / f\"{base}.txt\"\n",
    "    dst = proc_label_dir / \"gen\" / f\"{img_path.stem}.txt\"\n",
    "    if src.exists():\n",
    "        convert_and_save_label(src, dst, original_size, target_size)\n",
    "\n",
    "# --------------------------------------------------\n",
    "# 5. Match Image-Label Pairs\n",
    "# --------------------------------------------------\n",
    "nac_pairs = [(i, proc_label_dir / \"nac\" / f\"{i.stem}.txt\") for i in orig_img_dir.glob(\"*.png\") if (proc_label_dir / \"nac\" / f\"{i.stem}.txt\").exists()]\n",
    "gen_pairs = [(i, proc_label_dir / \"gen\" / f\"{i.stem}.txt\") for i in gen_img_dir.glob(\"*_GEN.png\") if (proc_label_dir / \"gen\" / f\"{i.stem}.txt\").exists()]\n",
    "\n",
    "# --------------------------------------------------\n",
    "# 6. Split Dataset into Train, Validation, Test\n",
    "# --------------------------------------------------\n",
    "nac_train_val, nac_test = train_test_split(nac_pairs, test_size=test_ratio_nac, random_state=42)\n",
    "gen_train_val, gen_test = train_test_split(gen_pairs, test_size=test_ratio_gen, random_state=42)\n",
    "train_val = nac_train_val + gen_train_val\n",
    "val_fraction = val_ratio / (train_ratio + val_ratio)\n",
    "train_pairs, val_pairs = train_test_split(train_val, test_size=val_fraction, random_state=42)\n",
    "\n",
    "# --------------------------------------------------\n",
    "# 7. Create YOLO-Compatible Directory Structure\n",
    "# --------------------------------------------------\n",
    "for split in [\"train\", \"val\"]:\n",
    "    (dataset_dir / \"images\" / split).mkdir(parents=True, exist_ok=True)\n",
    "    (dataset_dir / \"labels\" / split).mkdir(parents=True, exist_ok=True)\n",
    "for kind in [\"nac\", \"gen\"]:\n",
    "    (dataset_dir / \"images\" / \"test\" / kind).mkdir(parents=True, exist_ok=True)\n",
    "    (dataset_dir / \"labels\" / \"test\" / kind).mkdir(parents=True, exist_ok=True)\n",
    "\n",
    "# --------------------------------------------------\n",
    "# 8. Copy Images and Labels to the Final Structure\n",
    "# --------------------------------------------------\n",
    "def copy_set(pairs, split):\n",
    "    for img, lbl in pairs:\n",
    "        if split in [\"train\", \"val\"]:\n",
    "            shutil.copy(img, dataset_dir / \"images\" / split / img.name)\n",
    "            shutil.copy(lbl, dataset_dir / \"labels\" / split / lbl.name)\n",
    "        else:\n",
    "            kind = split.split(\"/\")[1]\n",
    "            shutil.copy(img, dataset_dir / \"images\" / \"test\" / kind / img.name)\n",
    "            shutil.copy(lbl, dataset_dir / \"labels\" / \"test\" / kind / lbl.name)\n",
    "\n",
    "copy_set(train_pairs, \"train\")\n",
    "copy_set(val_pairs, \"val\")\n",
    "copy_set(nac_test, \"test/nac\")\n",
    "copy_set(gen_test, \"test/gen\")\n",
    "\n",
    "# --------------------------------------------------\n",
    "# 9. Generate dataset.yaml File\n",
    "# --------------------------------------------------\n",
    "with open(dataset_dir / 'dataset.yaml', 'w') as f:\n",
    "    yaml.dump({'path': str(dataset_dir), 'train': 'images/train', 'val': 'images/val', 'nc': 1, 'names': ['nac']}, f)\n",
    "\n",
    "# --------------------------------------------------\n",
    "# 10. Train YOLOv8n Model\n",
    "# --------------------------------------------------\n",
    "model = YOLO('yolov8n.pt')\n",
    "model.train(data=str(dataset_dir / 'dataset.yaml'), epochs=50, imgsz=256, project='runs/train', name='exp1')\n",
    "\n",
    "# --------------------------------------------------\n",
    "# 11. Evaluate Model on NAC and Generated Test Sets\n",
    "# --------------------------------------------------\n",
    "results = []\n",
    "for name in [\"nac\", \"gen\"]:\n",
    "    test_yaml = dataset_dir / f'{name}_test.yaml'\n",
    "    with open(test_yaml, 'w') as f:\n",
    "        yaml.dump({'path': str(dataset_dir), 'train': 'images/train', 'val': f'images/test/{name}', 'nc': 1, 'names': ['nac']}, f)\n",
    "    metrics = model.val(data=str(test_yaml), imgsz=256, save_json=True)\n",
    "    row = {\n",
    "        'Dataset': name.upper(),\n",
    "        'mAP@50': metrics.box.map50,\n",
    "        'mAP@50-95': metrics.box.map,\n",
    "        'Precision': metrics.box.mp,\n",
    "        'Recall': metrics.box.mr\n",
    "    }\n",
    "    results.append(row)\n",
    "\n",
    "# Save metrics to CSV\n",
    "df = pd.DataFrame(results)\n",
    "df.to_csv(yolo_out_dir / \"metrics.csv\", index=False)\n",
    "\n",
    "# --------------------------------------------------\n",
    "# 12. Plot and Save Evaluation Graphs\n",
    "# --------------------------------------------------\n",
    "df.set_index(\"Dataset\")[[\"mAP@50\", \"mAP@50-95\"]].plot(kind='bar', title='mAP Comparison', figsize=(10,5))\n",
    "plt.ylabel(\"Score\")\n",
    "plt.ylim(0, 1.05)\n",
    "plt.grid(True)\n",
    "plt.savefig(yolo_out_dir / \"map_comparison.png\")\n",
    "plt.close()\n",
    "\n",
    "df.set_index(\"Dataset\")[[\"Precision\", \"Recall\"]].plot(kind='bar', title='Precision & Recall Comparison', figsize=(10,5))\n",
    "plt.ylabel(\"Score\")\n",
    "plt.ylim(0, 1.05)\n",
    "plt.grid(True)\n",
    "plt.savefig(yolo_out_dir / \"pr_comparison.png\")\n",
    "plt.close()\n",
    "\n",
    "# --------------------------------------------------\n",
    "# 13. Save Example Predictions\n",
    "# --------------------------------------------------\n",
    "nac_dir = dataset_dir / \"images/test/nac\"\n",
    "gen_dir = dataset_dir / \"images/test/gen\"\n",
    "samples = []\n",
    "for img_path in sorted(nac_dir.glob(\"*.png\")):\n",
    "    gen_path = gen_dir / f\"{img_path.stem}_GEN.png\"\n",
    "    if gen_path.exists():\n",
    "        samples.append((img_path, gen_path))\n",
    "    if len(samples) == 5:\n",
    "        break\n",
    "\n",
    "def save_prediction(img_path, save_path):\n",
    "    r = model(str(img_path))[0]\n",
    "    img = cv2.imread(str(img_path))\n",
    "    for box in r.boxes.xyxy.cpu().numpy():\n",
    "        x1, y1, x2, y2 = map(int, box[:4])\n",
    "        cv2.rectangle(img, (x1,y1), (x2,y2), (0,255,0), 2)\n",
    "    cv2.imwrite(str(save_path), img)\n",
    "\n",
    "for nac_img, gen_img in samples:\n",
    "    save_prediction(nac_img, yolo_out_dir / f\"pred_{nac_img.name}\")\n",
    "    save_prediction(gen_img, yolo_out_dir / f\"pred_{gen_img.name}\")\n",
    "\n",
    "print(\"✅ All steps completed. Results saved in 'Yolo' folder.\")\n"
   ]
  },
  {
   "cell_type": "code",
   "execution_count": null,
   "id": "caa3eb38-d119-4aab-87c5-0ea92171a364",
   "metadata": {},
   "outputs": [],
   "source": []
  }
 ],
 "metadata": {
  "kernelspec": {
   "display_name": "Python (graph_parser_env)",
   "language": "python",
   "name": "graph_parser_env"
  },
  "language_info": {
   "codemirror_mode": {
    "name": "ipython",
    "version": 3
   },
   "file_extension": ".py",
   "mimetype": "text/x-python",
   "name": "python",
   "nbconvert_exporter": "python",
   "pygments_lexer": "ipython3",
   "version": "3.8.20"
  }
 },
 "nbformat": 4,
 "nbformat_minor": 5
}
